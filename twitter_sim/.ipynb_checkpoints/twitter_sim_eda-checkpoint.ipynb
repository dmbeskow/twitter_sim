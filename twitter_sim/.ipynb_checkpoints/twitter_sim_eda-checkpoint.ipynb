{
 "cells": [
  {
   "cell_type": "code",
   "execution_count": 1,
   "metadata": {},
   "outputs": [
    {
     "name": "stdout",
     "output_type": "stream",
     "text": [
      "Processing c:\\users\\dmbes\\onedrive\\cmu\\classes\\simulation\\project\\twitter_sim\n",
      "    Complete output from command python setup.py egg_info:\n",
      "    running egg_info\n",
      "    creating pip-egg-info\\twitter_sim.egg-info\n",
      "    writing pip-egg-info\\twitter_sim.egg-info\\PKG-INFO\n",
      "    writing dependency_links to pip-egg-info\\twitter_sim.egg-info\\dependency_links.txt\n",
      "    writing requirements to pip-egg-info\\twitter_sim.egg-info\\requires.txt\n",
      "    writing top-level names to pip-egg-info\\twitter_sim.egg-info\\top_level.txt\n",
      "    writing manifest file 'pip-egg-info\\twitter_sim.egg-info\\SOURCES.txt'\n",
      "    error: package directory 'twitter_sim' does not exist\n",
      "    \n",
      "    ----------------------------------------\n"
     ]
    },
    {
     "name": "stderr",
     "output_type": "stream",
     "text": [
      "Command \"python setup.py egg_info\" failed with error code 1 in C:\\Users\\dmbes\\AppData\\Local\\Temp\\pip-req-build-4u46kycg\\\n"
     ]
    }
   ],
   "source": [
    "!pip install --user ../."
   ]
  }
 ],
 "metadata": {
  "kernelspec": {
   "display_name": "Python 3",
   "language": "python",
   "name": "python3"
  },
  "language_info": {
   "codemirror_mode": {
    "name": "ipython",
    "version": 3
   },
   "file_extension": ".py",
   "mimetype": "text/x-python",
   "name": "python",
   "nbconvert_exporter": "python",
   "pygments_lexer": "ipython3",
   "version": "3.7.1"
  }
 },
 "nbformat": 4,
 "nbformat_minor": 2
}
